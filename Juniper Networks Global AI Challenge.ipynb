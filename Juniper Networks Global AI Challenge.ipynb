{
 "cells": [
  {
   "cell_type": "code",
   "execution_count": 1,
   "metadata": {},
   "outputs": [],
   "source": [
    "import numpy as np\n",
    "import pandas as pd\n",
    "import matplotlib.pyplot as plt\n",
    "%matplotlib inline\n",
    "\n",
    "import matplotlib.dates as mdates\n",
    "from matplotlib import colors\n",
    "\n",
    "from datetime import datetime, timedelta\n",
    "from time import time\n",
    "from uuid import uuid4\n",
    "from scipy.ndimage import convolve1d\n",
    "\n",
    "import warnings\n",
    "warnings.filterwarnings(\"ignore\")"
   ]
  },
  {
   "cell_type": "code",
   "execution_count": 2,
   "metadata": {},
   "outputs": [
    {
     "data": {
      "text/html": [
       "<div>\n",
       "<style scoped>\n",
       "    .dataframe tbody tr th:only-of-type {\n",
       "        vertical-align: middle;\n",
       "    }\n",
       "\n",
       "    .dataframe tbody tr th {\n",
       "        vertical-align: top;\n",
       "    }\n",
       "\n",
       "    .dataframe thead th {\n",
       "        text-align: right;\n",
       "    }\n",
       "</style>\n",
       "<table border=\"1\" class=\"dataframe\">\n",
       "  <thead>\n",
       "    <tr style=\"text-align: right;\">\n",
       "      <th></th>\n",
       "      <th>Unnamed: 0</th>\n",
       "      <th>observation_id</th>\n",
       "      <th>observation_timestamp</th>\n",
       "      <th>hour_of_day</th>\n",
       "      <th>register__sales_dollar_amt_this_hour</th>\n",
       "      <th>register__payment_types_accepted</th>\n",
       "      <th>register__peak_sales_dollar_amt_per_hour</th>\n",
       "      <th>register__sales_dollar_amt_last_hour</th>\n",
       "      <th>register__sales_quantity_last_hour</th>\n",
       "      <th>register__sales_quantity_rescanned_frac</th>\n",
       "      <th>...</th>\n",
       "      <th>region__sales_dollar_amt_last_hour</th>\n",
       "      <th>region__returns_dollar_amt_last_hour</th>\n",
       "      <th>region__nighttime_open_registers</th>\n",
       "      <th>region__nighttime_service_time_per_customer</th>\n",
       "      <th>region__nighttime_sales_amt_per_hour</th>\n",
       "      <th>region__nighttime_returns_amt_per_hour</th>\n",
       "      <th>region__peak_sales_dollar_amt_per_hour</th>\n",
       "      <th>region__peak_sales_dollar_amt_per_hour_v2</th>\n",
       "      <th>region__peak_returns_dollar_amt_per_hour</th>\n",
       "      <th>region__peak_returns_dollar_amt_per_hour_v2</th>\n",
       "    </tr>\n",
       "  </thead>\n",
       "  <tbody>\n",
       "    <tr>\n",
       "      <th>0</th>\n",
       "      <td>0</td>\n",
       "      <td>704d2a80-d52e-11ec-90ff-c7e6292284b3</td>\n",
       "      <td>2022-05-16 15:39:57</td>\n",
       "      <td>15</td>\n",
       "      <td>347.29</td>\n",
       "      <td>Cash+Credit</td>\n",
       "      <td>-0.7383</td>\n",
       "      <td>-0.1270</td>\n",
       "      <td>-0.1993</td>\n",
       "      <td>-0.8299</td>\n",
       "      <td>...</td>\n",
       "      <td>-0.6920</td>\n",
       "      <td>-0.4605</td>\n",
       "      <td>-0.5180</td>\n",
       "      <td>-1.0062</td>\n",
       "      <td>-0.6462</td>\n",
       "      <td>-0.6030</td>\n",
       "      <td>-0.4773</td>\n",
       "      <td>0.1748</td>\n",
       "      <td>-1.7951</td>\n",
       "      <td>-0.8284</td>\n",
       "    </tr>\n",
       "    <tr>\n",
       "      <th>1</th>\n",
       "      <td>1</td>\n",
       "      <td>1cacc1d0-e6ac-11ec-b65d-156af70ce36b</td>\n",
       "      <td>2022-06-07 21:52:23</td>\n",
       "      <td>21</td>\n",
       "      <td>361.59</td>\n",
       "      <td>Cash+Credit</td>\n",
       "      <td>0.6483</td>\n",
       "      <td>-0.0362</td>\n",
       "      <td>-0.0777</td>\n",
       "      <td>-0.7395</td>\n",
       "      <td>...</td>\n",
       "      <td>-0.6531</td>\n",
       "      <td>-0.4434</td>\n",
       "      <td>-0.6498</td>\n",
       "      <td>0.9031</td>\n",
       "      <td>-0.6493</td>\n",
       "      <td>-0.6106</td>\n",
       "      <td>0.4998</td>\n",
       "      <td>-0.9816</td>\n",
       "      <td>0.8939</td>\n",
       "      <td>-0.8614</td>\n",
       "    </tr>\n",
       "  </tbody>\n",
       "</table>\n",
       "<p>2 rows × 63 columns</p>\n",
       "</div>"
      ],
      "text/plain": [
       "   Unnamed: 0                        observation_id observation_timestamp  \\\n",
       "0           0  704d2a80-d52e-11ec-90ff-c7e6292284b3   2022-05-16 15:39:57   \n",
       "1           1  1cacc1d0-e6ac-11ec-b65d-156af70ce36b   2022-06-07 21:52:23   \n",
       "\n",
       "   hour_of_day  register__sales_dollar_amt_this_hour  \\\n",
       "0           15                                347.29   \n",
       "1           21                                361.59   \n",
       "\n",
       "  register__payment_types_accepted  register__peak_sales_dollar_amt_per_hour  \\\n",
       "0                      Cash+Credit                                   -0.7383   \n",
       "1                      Cash+Credit                                    0.6483   \n",
       "\n",
       "   register__sales_dollar_amt_last_hour  register__sales_quantity_last_hour  \\\n",
       "0                               -0.1270                             -0.1993   \n",
       "1                               -0.0362                             -0.0777   \n",
       "\n",
       "   register__sales_quantity_rescanned_frac  ...  \\\n",
       "0                                  -0.8299  ...   \n",
       "1                                  -0.7395  ...   \n",
       "\n",
       "   region__sales_dollar_amt_last_hour  region__returns_dollar_amt_last_hour  \\\n",
       "0                             -0.6920                               -0.4605   \n",
       "1                             -0.6531                               -0.4434   \n",
       "\n",
       "   region__nighttime_open_registers  \\\n",
       "0                           -0.5180   \n",
       "1                           -0.6498   \n",
       "\n",
       "   region__nighttime_service_time_per_customer  \\\n",
       "0                                      -1.0062   \n",
       "1                                       0.9031   \n",
       "\n",
       "   region__nighttime_sales_amt_per_hour  \\\n",
       "0                               -0.6462   \n",
       "1                               -0.6493   \n",
       "\n",
       "   region__nighttime_returns_amt_per_hour  \\\n",
       "0                                 -0.6030   \n",
       "1                                 -0.6106   \n",
       "\n",
       "   region__peak_sales_dollar_amt_per_hour  \\\n",
       "0                                 -0.4773   \n",
       "1                                  0.4998   \n",
       "\n",
       "   region__peak_sales_dollar_amt_per_hour_v2  \\\n",
       "0                                     0.1748   \n",
       "1                                    -0.9816   \n",
       "\n",
       "   region__peak_returns_dollar_amt_per_hour  \\\n",
       "0                                   -1.7951   \n",
       "1                                    0.8939   \n",
       "\n",
       "   region__peak_returns_dollar_amt_per_hour_v2  \n",
       "0                                      -0.8284  \n",
       "1                                      -0.8614  \n",
       "\n",
       "[2 rows x 63 columns]"
      ]
     },
     "execution_count": 2,
     "metadata": {},
     "output_type": "execute_result"
    }
   ],
   "source": [
    "df = pd.read_csv(\"training_dataset.csv\")\n",
    "df.head(2)"
   ]
  },
  {
   "cell_type": "code",
   "execution_count": 3,
   "metadata": {},
   "outputs": [
    {
     "name": "stdout",
     "output_type": "stream",
     "text": [
      "<class 'pandas.core.frame.DataFrame'>\n",
      "RangeIndex: 18512 entries, 0 to 18511\n",
      "Data columns (total 63 columns):\n",
      " #   Column                                       Non-Null Count  Dtype  \n",
      "---  ------                                       --------------  -----  \n",
      " 0   Unnamed: 0                                   18512 non-null  int64  \n",
      " 1   observation_id                               18512 non-null  object \n",
      " 2   observation_timestamp                        18512 non-null  object \n",
      " 3   hour_of_day                                  18512 non-null  int64  \n",
      " 4   register__sales_dollar_amt_this_hour         18512 non-null  float64\n",
      " 5   register__payment_types_accepted             18512 non-null  object \n",
      " 6   register__peak_sales_dollar_amt_per_hour     18512 non-null  float64\n",
      " 7   register__sales_dollar_amt_last_hour         18512 non-null  float64\n",
      " 8   register__sales_quantity_last_hour           18512 non-null  float64\n",
      " 9   register__sales_quantity_rescanned_frac      18512 non-null  float64\n",
      " 10  register__sales_payments_declined_frac       18512 non-null  float64\n",
      " 11  register__peak_returns_dollar_amt_per_hour   18512 non-null  float64\n",
      " 12  register__returns_dollar_amt_last_hour       18512 non-null  float64\n",
      " 13  register__returns_quantity_last_hour         18512 non-null  float64\n",
      " 14  register__returns_quantity_rescanned_frac    18512 non-null  float64\n",
      " 15  cashier__title_level                         18512 non-null  float64\n",
      " 16  cashier__n_years_experience                  18512 non-null  float64\n",
      " 17  cashier__hours_into_shift                    18512 non-null  float64\n",
      " 18  cashier__item_scan_rate_per_min              18512 non-null  float64\n",
      " 19  cashier__item_manual_entry_rate_per_min      18512 non-null  float64\n",
      " 20  store__type_code                             18512 non-null  object \n",
      " 21  store__miles_to_nearest_location             18512 non-null  float64\n",
      " 22  store__target_sales_quantity_per_hour        18512 non-null  float64\n",
      " 23  store__mean_customer_to_staff_ratio          18512 non-null  float64\n",
      " 24  store__mean_service_time_per_customer        18512 non-null  float64\n",
      " 25  store__n_employees_total                     18512 non-null  float64\n",
      " 26  store__n_managers                            18512 non-null  float64\n",
      " 27  store__n_baggers                             18512 non-null  float64\n",
      " 28  store__n_open_registers                      18512 non-null  float64\n",
      " 29  store__is_sufficiently_staffed               18512 non-null  float64\n",
      " 30  store__occupancy_main_floor                  18512 non-null  float64\n",
      " 31  store__occupancy_grocery                     18512 non-null  float64\n",
      " 32  store__occupancy_checkout_areas              18512 non-null  float64\n",
      " 33  store__occupancy_food_court                  18512 non-null  float64\n",
      " 34  store__occupancy_backrooms                   18512 non-null  float64\n",
      " 35  store__occupancy_indoors                     18512 non-null  float64\n",
      " 36  store__occupancy_outdoors                    18512 non-null  float64\n",
      " 37  store__outdoor_temperature                   18512 non-null  float64\n",
      " 38  store__parking_lot_utilization               18512 non-null  float64\n",
      " 39  store__shelf_freespace_frac                  18512 non-null  float64\n",
      " 40  store__hrs_since_last_delivery               18512 non-null  float64\n",
      " 41  store__sales_dollar_amt_last_hour            18512 non-null  float64\n",
      " 42  store__sales_quantity_last_hour              18512 non-null  float64\n",
      " 43  store__sales_quantity_rescanned_frac         18512 non-null  float64\n",
      " 44  store__gift_sales_quantity_last_hour         18512 non-null  float64\n",
      " 45  store__returns_dollar_amt_last_hour          18512 non-null  float64\n",
      " 46  store__returns_quantity_last_hour            18512 non-null  float64\n",
      " 47  store__returns_quantity_rescanned_frac       18512 non-null  float64\n",
      " 48  store__gift_returns_quantity_last_hour       18512 non-null  float64\n",
      " 49  region__n_stores                             18512 non-null  float64\n",
      " 50  region__n_open_registers                     18512 non-null  float64\n",
      " 51  region__mean_service_time_per_customer       18512 non-null  float64\n",
      " 52  region__stdev_service_time_per_customer      18512 non-null  float64\n",
      " 53  region__sales_dollar_amt_last_hour           18512 non-null  float64\n",
      " 54  region__returns_dollar_amt_last_hour         18512 non-null  float64\n",
      " 55  region__nighttime_open_registers             18512 non-null  float64\n",
      " 56  region__nighttime_service_time_per_customer  18512 non-null  float64\n",
      " 57  region__nighttime_sales_amt_per_hour         18512 non-null  float64\n",
      " 58  region__nighttime_returns_amt_per_hour       18512 non-null  float64\n",
      " 59  region__peak_sales_dollar_amt_per_hour       18512 non-null  float64\n",
      " 60  region__peak_sales_dollar_amt_per_hour_v2    18314 non-null  float64\n",
      " 61  region__peak_returns_dollar_amt_per_hour     18512 non-null  float64\n",
      " 62  region__peak_returns_dollar_amt_per_hour_v2  16612 non-null  float64\n",
      "dtypes: float64(57), int64(2), object(4)\n",
      "memory usage: 8.9+ MB\n"
     ]
    }
   ],
   "source": [
    "df.info()"
   ]
  },
  {
   "cell_type": "code",
   "execution_count": 4,
   "metadata": {},
   "outputs": [],
   "source": [
    "missing_values= df.isnull().sum()"
   ]
  },
  {
   "cell_type": "code",
   "execution_count": 5,
   "metadata": {},
   "outputs": [
    {
     "name": "stdout",
     "output_type": "stream",
     "text": [
      "region__peak_sales_dollar_amt_per_hour_v2       198\n",
      "region__peak_returns_dollar_amt_per_hour_v2    1900\n",
      "dtype: int64\n"
     ]
    }
   ],
   "source": [
    "print(missing_values[missing_values>0])"
   ]
  },
  {
   "cell_type": "code",
   "execution_count": 6,
   "metadata": {},
   "outputs": [],
   "source": [
    "df['region__peak_sales_dollar_amt_per_hour_v2'].fillna(df['region__peak_sales_dollar_amt_per_hour_v2'].mean(), inplace= True)\n",
    "df['region__peak_returns_dollar_amt_per_hour_v2'].fillna(df['region__peak_returns_dollar_amt_per_hour_v2'].mean(), inplace= True)"
   ]
  },
  {
   "cell_type": "code",
   "execution_count": 7,
   "metadata": {},
   "outputs": [
    {
     "data": {
      "text/plain": [
       "Index([], dtype='object')"
      ]
     },
     "execution_count": 7,
     "metadata": {},
     "output_type": "execute_result"
    }
   ],
   "source": [
    "df.columns[df.isna().any()]"
   ]
  },
  {
   "cell_type": "code",
   "execution_count": 8,
   "metadata": {},
   "outputs": [
    {
     "data": {
      "text/plain": [
       "observation_id                      object\n",
       "observation_timestamp               object\n",
       "register__payment_types_accepted    object\n",
       "store__type_code                    object\n",
       "dtype: object"
      ]
     },
     "execution_count": 8,
     "metadata": {},
     "output_type": "execute_result"
    }
   ],
   "source": [
    "df.dtypes[df.dtypes == 'object']"
   ]
  },
  {
   "cell_type": "code",
   "execution_count": 9,
   "metadata": {},
   "outputs": [
    {
     "data": {
      "text/plain": [
       "2022-05-19 20:42:58    2\n",
       "2022-05-03 18:37:18    2\n",
       "2022-05-14 04:33:50    2\n",
       "2022-05-17 23:49:34    2\n",
       "2022-05-13 16:04:43    2\n",
       "                      ..\n",
       "2022-06-06 16:45:27    1\n",
       "2022-05-14 23:55:36    1\n",
       "2022-06-01 21:37:47    1\n",
       "2022-06-08 01:36:11    1\n",
       "2022-06-22 20:02:32    1\n",
       "Name: observation_timestamp, Length: 18460, dtype: int64"
      ]
     },
     "execution_count": 9,
     "metadata": {},
     "output_type": "execute_result"
    }
   ],
   "source": [
    "df.observation_timestamp.value_counts()"
   ]
  },
  {
   "cell_type": "code",
   "execution_count": 10,
   "metadata": {},
   "outputs": [
    {
     "data": {
      "text/plain": [
       "Cash+Credit          16310\n",
       "Cash+Credit+Check     2133\n",
       "Credit                  69\n",
       "Name: register__payment_types_accepted, dtype: int64"
      ]
     },
     "execution_count": 10,
     "metadata": {},
     "output_type": "execute_result"
    }
   ],
   "source": [
    "df.register__payment_types_accepted.value_counts()"
   ]
  },
  {
   "cell_type": "code",
   "execution_count": 11,
   "metadata": {},
   "outputs": [
    {
     "data": {
      "text/plain": [
       "A    11691\n",
       "C     5637\n",
       "B      861\n",
       "D      316\n",
       "F        5\n",
       "E        2\n",
       "Name: store__type_code, dtype: int64"
      ]
     },
     "execution_count": 11,
     "metadata": {},
     "output_type": "execute_result"
    }
   ],
   "source": [
    "df.store__type_code.value_counts()"
   ]
  },
  {
   "cell_type": "code",
   "execution_count": 12,
   "metadata": {},
   "outputs": [],
   "source": [
    "df.observation_timestamp = df.observation_timestamp.astype('datetime64[ns]')"
   ]
  },
  {
   "cell_type": "code",
   "execution_count": 13,
   "metadata": {},
   "outputs": [
    {
     "data": {
      "text/plain": [
       "observation_id                      object\n",
       "register__payment_types_accepted    object\n",
       "store__type_code                    object\n",
       "dtype: object"
      ]
     },
     "execution_count": 13,
     "metadata": {},
     "output_type": "execute_result"
    }
   ],
   "source": [
    "df.dtypes[df.dtypes == 'object']"
   ]
  },
  {
   "cell_type": "code",
   "execution_count": 14,
   "metadata": {},
   "outputs": [],
   "source": [
    "cols = ['register__payment_types_accepted', 'store__type_code']"
   ]
  },
  {
   "cell_type": "code",
   "execution_count": 15,
   "metadata": {},
   "outputs": [],
   "source": [
    "df_n = pd.get_dummies(df, columns= cols)"
   ]
  },
  {
   "cell_type": "code",
   "execution_count": 16,
   "metadata": {},
   "outputs": [],
   "source": [
    "df_n.drop(['observation_id' , 'Unnamed: 0'], axis = 1, inplace= True)"
   ]
  },
  {
   "cell_type": "code",
   "execution_count": 17,
   "metadata": {},
   "outputs": [
    {
     "data": {
      "text/plain": [
       "Series([], dtype: object)"
      ]
     },
     "execution_count": 17,
     "metadata": {},
     "output_type": "execute_result"
    }
   ],
   "source": [
    "df_n.dtypes[df_n.dtypes == 'object']"
   ]
  },
  {
   "cell_type": "code",
   "execution_count": 18,
   "metadata": {},
   "outputs": [
    {
     "data": {
      "text/plain": [
       "(18512, 68)"
      ]
     },
     "execution_count": 18,
     "metadata": {},
     "output_type": "execute_result"
    }
   ],
   "source": [
    "df_n.shape"
   ]
  },
  {
   "cell_type": "code",
   "execution_count": 19,
   "metadata": {},
   "outputs": [
    {
     "data": {
      "text/html": [
       "<div>\n",
       "<style scoped>\n",
       "    .dataframe tbody tr th:only-of-type {\n",
       "        vertical-align: middle;\n",
       "    }\n",
       "\n",
       "    .dataframe tbody tr th {\n",
       "        vertical-align: top;\n",
       "    }\n",
       "\n",
       "    .dataframe thead th {\n",
       "        text-align: right;\n",
       "    }\n",
       "</style>\n",
       "<table border=\"1\" class=\"dataframe\">\n",
       "  <thead>\n",
       "    <tr style=\"text-align: right;\">\n",
       "      <th></th>\n",
       "      <th>observation_id</th>\n",
       "      <th>observation_timestamp</th>\n",
       "      <th>hour_of_day</th>\n",
       "      <th>register__payment_types_accepted</th>\n",
       "      <th>register__peak_sales_dollar_amt_per_hour</th>\n",
       "      <th>register__sales_dollar_amt_last_hour</th>\n",
       "      <th>register__sales_quantity_last_hour</th>\n",
       "      <th>register__sales_quantity_rescanned_frac</th>\n",
       "      <th>register__sales_payments_declined_frac</th>\n",
       "      <th>register__peak_returns_dollar_amt_per_hour</th>\n",
       "      <th>...</th>\n",
       "      <th>region__sales_dollar_amt_last_hour</th>\n",
       "      <th>region__returns_dollar_amt_last_hour</th>\n",
       "      <th>region__nighttime_open_registers</th>\n",
       "      <th>region__nighttime_service_time_per_customer</th>\n",
       "      <th>region__nighttime_sales_amt_per_hour</th>\n",
       "      <th>region__nighttime_returns_amt_per_hour</th>\n",
       "      <th>region__peak_sales_dollar_amt_per_hour</th>\n",
       "      <th>region__peak_sales_dollar_amt_per_hour_v2</th>\n",
       "      <th>region__peak_returns_dollar_amt_per_hour</th>\n",
       "      <th>region__peak_returns_dollar_amt_per_hour_v2</th>\n",
       "    </tr>\n",
       "  </thead>\n",
       "  <tbody>\n",
       "    <tr>\n",
       "      <th>0</th>\n",
       "      <td>3f483640-bc52-11ec-b736-8544dc068949</td>\n",
       "      <td>15/04/2022 00:23</td>\n",
       "      <td>0</td>\n",
       "      <td>Cash+Credit</td>\n",
       "      <td>0.5693</td>\n",
       "      <td>-0.1253</td>\n",
       "      <td>-0.1489</td>\n",
       "      <td>-0.8176</td>\n",
       "      <td>-0.1066</td>\n",
       "      <td>0.9103</td>\n",
       "      <td>...</td>\n",
       "      <td>-0.6373</td>\n",
       "      <td>-0.3791</td>\n",
       "      <td>-0.5581</td>\n",
       "      <td>-0.7148</td>\n",
       "      <td>-0.6487</td>\n",
       "      <td>-0.6091</td>\n",
       "      <td>1.0020</td>\n",
       "      <td>-0.5479</td>\n",
       "      <td>0.8761</td>\n",
       "      <td>NaN</td>\n",
       "    </tr>\n",
       "    <tr>\n",
       "      <th>1</th>\n",
       "      <td>a88b0bb0-d2ae-11ec-bd0e-f5a7c7895456</td>\n",
       "      <td>13/05/2022 11:20</td>\n",
       "      <td>11</td>\n",
       "      <td>Cash+Credit</td>\n",
       "      <td>0.3084</td>\n",
       "      <td>-0.1270</td>\n",
       "      <td>-0.1986</td>\n",
       "      <td>1.6562</td>\n",
       "      <td>-0.1247</td>\n",
       "      <td>-0.5251</td>\n",
       "      <td>...</td>\n",
       "      <td>-0.6483</td>\n",
       "      <td>-0.4419</td>\n",
       "      <td>-0.6498</td>\n",
       "      <td>0.8867</td>\n",
       "      <td>-0.6493</td>\n",
       "      <td>-0.6106</td>\n",
       "      <td>-1.9779</td>\n",
       "      <td>-0.9816</td>\n",
       "      <td>-0.1311</td>\n",
       "      <td>-0.8614</td>\n",
       "    </tr>\n",
       "  </tbody>\n",
       "</table>\n",
       "<p>2 rows × 61 columns</p>\n",
       "</div>"
      ],
      "text/plain": [
       "                         observation_id observation_timestamp  hour_of_day  \\\n",
       "0  3f483640-bc52-11ec-b736-8544dc068949      15/04/2022 00:23            0   \n",
       "1  a88b0bb0-d2ae-11ec-bd0e-f5a7c7895456      13/05/2022 11:20           11   \n",
       "\n",
       "  register__payment_types_accepted  register__peak_sales_dollar_amt_per_hour  \\\n",
       "0                      Cash+Credit                                    0.5693   \n",
       "1                      Cash+Credit                                    0.3084   \n",
       "\n",
       "   register__sales_dollar_amt_last_hour  register__sales_quantity_last_hour  \\\n",
       "0                               -0.1253                             -0.1489   \n",
       "1                               -0.1270                             -0.1986   \n",
       "\n",
       "   register__sales_quantity_rescanned_frac  \\\n",
       "0                                  -0.8176   \n",
       "1                                   1.6562   \n",
       "\n",
       "   register__sales_payments_declined_frac  \\\n",
       "0                                 -0.1066   \n",
       "1                                 -0.1247   \n",
       "\n",
       "   register__peak_returns_dollar_amt_per_hour  ...  \\\n",
       "0                                      0.9103  ...   \n",
       "1                                     -0.5251  ...   \n",
       "\n",
       "   region__sales_dollar_amt_last_hour  region__returns_dollar_amt_last_hour  \\\n",
       "0                             -0.6373                               -0.3791   \n",
       "1                             -0.6483                               -0.4419   \n",
       "\n",
       "   region__nighttime_open_registers  \\\n",
       "0                           -0.5581   \n",
       "1                           -0.6498   \n",
       "\n",
       "   region__nighttime_service_time_per_customer  \\\n",
       "0                                      -0.7148   \n",
       "1                                       0.8867   \n",
       "\n",
       "   region__nighttime_sales_amt_per_hour  \\\n",
       "0                               -0.6487   \n",
       "1                               -0.6493   \n",
       "\n",
       "   region__nighttime_returns_amt_per_hour  \\\n",
       "0                                 -0.6091   \n",
       "1                                 -0.6106   \n",
       "\n",
       "   region__peak_sales_dollar_amt_per_hour  \\\n",
       "0                                  1.0020   \n",
       "1                                 -1.9779   \n",
       "\n",
       "   region__peak_sales_dollar_amt_per_hour_v2  \\\n",
       "0                                    -0.5479   \n",
       "1                                    -0.9816   \n",
       "\n",
       "  region__peak_returns_dollar_amt_per_hour  \\\n",
       "0                                   0.8761   \n",
       "1                                  -0.1311   \n",
       "\n",
       "   region__peak_returns_dollar_amt_per_hour_v2  \n",
       "0                                          NaN  \n",
       "1                                      -0.8614  \n",
       "\n",
       "[2 rows x 61 columns]"
      ]
     },
     "execution_count": 19,
     "metadata": {},
     "output_type": "execute_result"
    }
   ],
   "source": [
    "df_t = pd.read_csv(\"test_dataset.csv\")\n",
    "df_t.head(2)"
   ]
  },
  {
   "cell_type": "code",
   "execution_count": 20,
   "metadata": {},
   "outputs": [],
   "source": [
    "missing_values_t= df_t.isnull().sum()"
   ]
  },
  {
   "cell_type": "code",
   "execution_count": 21,
   "metadata": {},
   "outputs": [
    {
     "name": "stdout",
     "output_type": "stream",
     "text": [
      "region__peak_sales_dollar_amt_per_hour_v2      100\n",
      "region__peak_returns_dollar_amt_per_hour_v2    568\n",
      "dtype: int64\n"
     ]
    }
   ],
   "source": [
    "print(missing_values_t[missing_values_t>0])"
   ]
  },
  {
   "cell_type": "code",
   "execution_count": 22,
   "metadata": {},
   "outputs": [],
   "source": [
    "df_t['region__peak_sales_dollar_amt_per_hour_v2'].fillna(df_t['region__peak_sales_dollar_amt_per_hour_v2'].mean(), inplace= True)\n",
    "df_t['region__peak_returns_dollar_amt_per_hour_v2'].fillna(df_t['region__peak_returns_dollar_amt_per_hour_v2'].mean(), inplace= True)"
   ]
  },
  {
   "cell_type": "code",
   "execution_count": 23,
   "metadata": {},
   "outputs": [
    {
     "data": {
      "text/plain": [
       "Index([], dtype='object')"
      ]
     },
     "execution_count": 23,
     "metadata": {},
     "output_type": "execute_result"
    }
   ],
   "source": [
    "df_t.columns[df_t.isna().any()]"
   ]
  },
  {
   "cell_type": "code",
   "execution_count": 24,
   "metadata": {},
   "outputs": [
    {
     "data": {
      "text/plain": [
       "observation_id                      object\n",
       "observation_timestamp               object\n",
       "register__payment_types_accepted    object\n",
       "store__type_code                    object\n",
       "dtype: object"
      ]
     },
     "execution_count": 24,
     "metadata": {},
     "output_type": "execute_result"
    }
   ],
   "source": [
    "df_t.dtypes[df_t.dtypes == 'object']"
   ]
  },
  {
   "cell_type": "code",
   "execution_count": 25,
   "metadata": {},
   "outputs": [],
   "source": [
    "df_t.observation_timestamp = df_t.observation_timestamp.astype('datetime64[ns]')"
   ]
  },
  {
   "cell_type": "code",
   "execution_count": 26,
   "metadata": {},
   "outputs": [],
   "source": [
    "df_nt = pd.get_dummies(df_t, columns= cols)"
   ]
  },
  {
   "cell_type": "code",
   "execution_count": 27,
   "metadata": {},
   "outputs": [],
   "source": [
    "df_nt.drop('observation_id', axis = 1, inplace= True)"
   ]
  },
  {
   "cell_type": "code",
   "execution_count": 28,
   "metadata": {},
   "outputs": [
    {
     "data": {
      "text/plain": [
       "Series([], dtype: object)"
      ]
     },
     "execution_count": 28,
     "metadata": {},
     "output_type": "execute_result"
    }
   ],
   "source": [
    "df_nt.dtypes[df_nt.dtypes == 'object']"
   ]
  },
  {
   "cell_type": "code",
   "execution_count": 29,
   "metadata": {},
   "outputs": [
    {
     "data": {
      "text/plain": [
       "(5179, 67)"
      ]
     },
     "execution_count": 29,
     "metadata": {},
     "output_type": "execute_result"
    }
   ],
   "source": [
    "df_nt.shape"
   ]
  },
  {
   "cell_type": "code",
   "execution_count": 30,
   "metadata": {},
   "outputs": [],
   "source": [
    "from sklearn.model_selection import train_test_split"
   ]
  },
  {
   "cell_type": "code",
   "execution_count": 31,
   "metadata": {},
   "outputs": [],
   "source": [
    "y = df_n.register__sales_dollar_amt_this_hour\n",
    "X = df_n.drop(['register__sales_dollar_amt_this_hour'], axis =1)"
   ]
  },
  {
   "cell_type": "code",
   "execution_count": 32,
   "metadata": {},
   "outputs": [],
   "source": [
    "X_train, X_test, y_train, y_test =  train_test_split(X, y, test_size= 0.4, random_state= 42)"
   ]
  },
  {
   "cell_type": "markdown",
   "metadata": {},
   "source": [
    "you must use error metrics specifically designed for evaluating predictions made on regression problems"
   ]
  },
  {
   "cell_type": "code",
   "execution_count": 33,
   "metadata": {},
   "outputs": [],
   "source": [
    "from sklearn.metrics import make_scorer, r2_score \n",
    "from sklearn.model_selection import cross_validate"
   ]
  },
  {
   "cell_type": "code",
   "execution_count": 34,
   "metadata": {},
   "outputs": [],
   "source": [
    "def scores(model, title = \"Default\"):\n",
    "    model.fit(X_train, y_train)\n",
    "    pred = model.predict(X_test)\n",
    "    sc = r2_score(y_test, pred)\n",
    "    print(\"r2 score: {}\".format(sc))"
   ]
  },
  {
   "cell_type": "code",
   "execution_count": 35,
   "metadata": {},
   "outputs": [
    {
     "name": "stdout",
     "output_type": "stream",
     "text": [
      "r2 score: 0.9468827190522411\n"
     ]
    }
   ],
   "source": [
    "from catboost import CatBoostRegressor\n",
    "catbr = CatBoostRegressor(verbose= 0, n_estimators= 100)\n",
    "scores(catbr, \"Cat Boosting\")"
   ]
  },
  {
   "cell_type": "code",
   "execution_count": 36,
   "metadata": {},
   "outputs": [],
   "source": [
    "target = catbr.predict(df_nt)\n",
    "d = pd.DataFrame(target)\n",
    "#d.index = df_nt.id\n",
    "d.columns = ['prediction']\n",
    "d.to_csv('submission.csv', index= False)"
   ]
  },
  {
   "cell_type": "code",
   "execution_count": 37,
   "metadata": {},
   "outputs": [
    {
     "data": {
      "text/html": [
       "<div>\n",
       "<style scoped>\n",
       "    .dataframe tbody tr th:only-of-type {\n",
       "        vertical-align: middle;\n",
       "    }\n",
       "\n",
       "    .dataframe tbody tr th {\n",
       "        vertical-align: top;\n",
       "    }\n",
       "\n",
       "    .dataframe thead th {\n",
       "        text-align: right;\n",
       "    }\n",
       "</style>\n",
       "<table border=\"1\" class=\"dataframe\">\n",
       "  <thead>\n",
       "    <tr style=\"text-align: right;\">\n",
       "      <th></th>\n",
       "      <th>prediction</th>\n",
       "    </tr>\n",
       "  </thead>\n",
       "  <tbody>\n",
       "    <tr>\n",
       "      <th>0</th>\n",
       "      <td>1726.509946</td>\n",
       "    </tr>\n",
       "    <tr>\n",
       "      <th>1</th>\n",
       "      <td>363.218949</td>\n",
       "    </tr>\n",
       "    <tr>\n",
       "      <th>2</th>\n",
       "      <td>1397.184138</td>\n",
       "    </tr>\n",
       "    <tr>\n",
       "      <th>3</th>\n",
       "      <td>242.177765</td>\n",
       "    </tr>\n",
       "    <tr>\n",
       "      <th>4</th>\n",
       "      <td>370.895325</td>\n",
       "    </tr>\n",
       "  </tbody>\n",
       "</table>\n",
       "</div>"
      ],
      "text/plain": [
       "    prediction\n",
       "0  1726.509946\n",
       "1   363.218949\n",
       "2  1397.184138\n",
       "3   242.177765\n",
       "4   370.895325"
      ]
     },
     "execution_count": 37,
     "metadata": {},
     "output_type": "execute_result"
    }
   ],
   "source": [
    "d.head()"
   ]
  },
  {
   "cell_type": "code",
   "execution_count": null,
   "metadata": {},
   "outputs": [],
   "source": []
  }
 ],
 "metadata": {
  "kernelspec": {
   "display_name": "Python 3.9.12 ('datascience')",
   "language": "python",
   "name": "python3"
  },
  "language_info": {
   "codemirror_mode": {
    "name": "ipython",
    "version": 3
   },
   "file_extension": ".py",
   "mimetype": "text/x-python",
   "name": "python",
   "nbconvert_exporter": "python",
   "pygments_lexer": "ipython3",
   "version": "3.9.12"
  },
  "orig_nbformat": 4,
  "vscode": {
   "interpreter": {
    "hash": "2b95d1d26a7c151409d3838b561334334add08b8c47c80f91b49b2addd682c6f"
   }
  }
 },
 "nbformat": 4,
 "nbformat_minor": 2
}
